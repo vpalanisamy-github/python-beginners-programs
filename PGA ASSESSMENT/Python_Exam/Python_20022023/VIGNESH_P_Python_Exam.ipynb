{
 "cells": [
  {
   "cell_type": "markdown",
   "id": "2c5985be",
   "metadata": {},
   "source": [
    "### Importing libraries"
   ]
  },
  {
   "cell_type": "code",
   "execution_count": 1,
   "id": "571694f9",
   "metadata": {},
   "outputs": [],
   "source": [
    "import numpy as np\n",
    "import pandas as pd\n",
    "import seaborn as sns\n",
    "import string"
   ]
  },
  {
   "cell_type": "markdown",
   "id": "dd30a351",
   "metadata": {},
   "source": [
    "### 1. Count all letters, digits, and special symbols from a given\n",
    "string\n",
    "str1 = \"I@#ma26rt^&ic5us\""
   ]
  },
  {
   "cell_type": "code",
   "execution_count": 2,
   "id": "251e9bf2",
   "metadata": {},
   "outputs": [
    {
     "name": "stdout",
     "output_type": "stream",
     "text": [
      "Special symbols:  @#^&\n",
      "Letters:  Imarticus\n",
      "Digits:  265\n"
     ]
    }
   ],
   "source": [
    "str1= \"I@#ma26rt^&ic5us\"\n",
    "special_symbols = ''\n",
    "letters = ''\n",
    "digits = ''\n",
    "\n",
    "for i in str1:\n",
    "    if i in string.punctuation:                #Checking for the special symbols.\n",
    "        special_symbols+=i\n",
    "    elif i.isalpha():                          #Checking for the letters.\n",
    "        letters+=i\n",
    "    else:                                      #Left out is digits.\n",
    "        digits+=i\n",
    "\n",
    "\n",
    "print(\"Special symbols: \", special_symbols)    #Printing all letters, digits and special symbols accordingly.\n",
    "print(\"Letters: \", letters)\n",
    "print(\"Digits: \", digits)"
   ]
  },
  {
   "cell_type": "markdown",
   "id": "68622986",
   "metadata": {},
   "source": [
    "### 2. Write a Python program to find numbers divisible by nineteen or thirteen from a list of numbers using Lambda.\n",
    "a=[19, 65, 57, 39, 152, 639, 121, 44, 90, 190]\n",
    " "
   ]
  },
  {
   "cell_type": "code",
   "execution_count": 3,
   "id": "856989ad",
   "metadata": {},
   "outputs": [
    {
     "name": "stdout",
     "output_type": "stream",
     "text": [
      "[19, 65, 57, 39, 152, 190]\n"
     ]
    }
   ],
   "source": [
    "a = [19, 65, 57, 39, 152, 639, 121, 44, 90, 190]\n",
    "\n",
    "output = list(filter(lambda x: x % 19 == 0 or x % 13 == 0, a))     #applying condition through lambda function\n",
    "\n",
    "print(output)                                                      #Printing the result set\n"
   ]
  },
  {
   "cell_type": "markdown",
   "id": "63c0a891",
   "metadata": {},
   "source": [
    "### 3. Find all of the words in a string that are less than 5 letters.\n",
    "string = \"Practice Problems to Drill List Comprehension in\n",
    "Your Head.\""
   ]
  },
  {
   "cell_type": "code",
   "execution_count": 4,
   "id": "97f5521c",
   "metadata": {},
   "outputs": [
    {
     "name": "stdout",
     "output_type": "stream",
     "text": [
      "Words that are less than 5 letters in a string:  ['to', 'List', 'in', 'Your']\n"
     ]
    }
   ],
   "source": [
    "string = \"Practice Problems to Drill List Comprehension in Your Head.\"\n",
    "string_words = string.split(\" \")\n",
    "result = []\n",
    "for word in string_words:\n",
    "    if len(word)<5:\n",
    "        result.append(word)                                #Appending the word which are having length of less than 5 letters.\n",
    "\n",
    "        \n",
    "print(\"Words that are less than 5 letters in a string: \", result)\n"
   ]
  },
  {
   "cell_type": "markdown",
   "id": "76d9d5bc",
   "metadata": {},
   "source": [
    "### 4. Calculate income tax for the given income by adhering to the below rules:\n",
    "Taxable            income Rate (in %)\n",
    "\n",
    "First             $10,000 0\n",
    "\n",
    "Next              $10,000 10\n",
    "\n",
    "The remaining     20\n",
    "\n",
    "Expected Output:\n",
    "\n",
    "For example, suppose the taxable income is 45000 the\n",
    "income tax payable is:\n",
    "10000 0% + 10000 10% + 25000 20% = $6000. "
   ]
  },
  {
   "cell_type": "code",
   "execution_count": 5,
   "id": "40933ae3",
   "metadata": {},
   "outputs": [
    {
     "name": "stdout",
     "output_type": "stream",
     "text": [
      "Please enter your income: 45000\n",
      "Tax amount payable is: $ 6000.0\n"
     ]
    }
   ],
   "source": [
    "def income_tax(income):\n",
    "    if income > 10000:\n",
    "        return ((10000)*0.1) + ((income-20000)*0.2)         #Calculating income tax\n",
    "\n",
    "income = eval(input(\"Please enter your income: \"))\n",
    " \n",
    "print(\"Tax amount payable is: $\", income_tax(income))      #Printing the result set"
   ]
  },
  {
   "cell_type": "markdown",
   "id": "01a4bd2f",
   "metadata": {},
   "source": [
    "### 5. Given below are the list of positive and negative words. Also, a list of tweets is provided. Separate out the positive and negative comments."
   ]
  },
  {
   "cell_type": "code",
   "execution_count": 6,
   "id": "129cbb90",
   "metadata": {},
   "outputs": [
    {
     "name": "stdout",
     "output_type": "stream",
     "text": [
      "Positive Sentiment:  ['This government policies are good', 'The way he played showed that he is one of the best players in the world', 'Her acting in the play was awesome', \"It's nice to hear this little kid's laugh\"]\n",
      "\n",
      "Negative Sentiment:  ['bad implementation', 'The wine tastes awful', 'The service here is extremly bad']\n"
     ]
    }
   ],
   "source": [
    "positive = ['good','awesome', 'best', 'nice']\n",
    "negative = ['worst','awful', 'bad']\n",
    "\n",
    "positive_comment = []                     \n",
    "negative_comment = []                        \n",
    "\n",
    "tweets = ['This government policies are good', \n",
    "            'bad implementation', \n",
    "            'The way he played showed that he is one of the best players in the world', \n",
    "            'Her acting in the play was awesome', 'The wine tastes awful', \n",
    "            \"It's nice to hear this little kid's laugh\",\n",
    "          \"The service here is extremly bad\"\n",
    "         ]        \n",
    "\n",
    "\n",
    "for sentence in tweets:                             #Filtering out the positive and negative comments\n",
    "    for pos in positive:                            \n",
    "        if pos in sentence:                    \n",
    "            positive_comment.append(sentence)      \n",
    "    for nes in negative:                         \n",
    "        if nes in sentence:                         \n",
    "            negative_comment.append(sentence)       \n",
    "    \n",
    "\n",
    "print(\"Positive Sentiment: \",positive_comment)   \n",
    "print(\"\\nNegative Sentiment: \",negative_comment)"
   ]
  },
  {
   "cell_type": "markdown",
   "id": "f9200443",
   "metadata": {},
   "source": [
    "### 6. Extend nested list by adding the sublist. You have given a nested list.  Write a program to extend it by adding the sublist [\"h\", \"i\", \"j\"] in such a way that it will look like the following list.\n",
    "expected_output =['a', 'b', ['c', ['d', 'e', ['f', 'g', 'h', 'i', 'j'], 'k'], 'l'],\n",
    "'m', 'n']\n"
   ]
  },
  {
   "cell_type": "code",
   "execution_count": 7,
   "id": "6e03042f",
   "metadata": {},
   "outputs": [
    {
     "name": "stdout",
     "output_type": "stream",
     "text": [
      "Expected output:  ['a', 'b', ['c', ['d', 'e', ['f', 'g', 'h', 'i', 'j'], 'k'], 'l'], 'm', 'n']\n"
     ]
    }
   ],
   "source": [
    "list1 = [\"a\", \"b\", [\"c\", [\"d\", \"e\", [\"f\", \"g\"], \"k\"], \"l\"], \"m\", \"n\"]\n",
    "#sub list to add\n",
    "sub_list = [\"h\", \"i\", \"j\"]\n",
    "\n",
    "\n",
    "for i in range(len(sub_list)):                         #Inserting sub_list values in the list1 based on the index position\n",
    "    list1[2][1][2].append(sub_list[i])\n",
    "\n",
    "print(\"Expected output: \", list1)"
   ]
  },
  {
   "cell_type": "markdown",
   "id": "80bdcc0f",
   "metadata": {},
   "source": [
    "### 7. Remove and add item in a list.\n",
    "Write a program to remove the item present at index 4 and\n",
    "add it to the 2nd position and at the end of the list."
   ]
  },
  {
   "cell_type": "code",
   "execution_count": 8,
   "id": "154cea35",
   "metadata": {},
   "outputs": [
    {
     "name": "stdout",
     "output_type": "stream",
     "text": [
      "List value:  [54, 91, 44, 27, 79, 41, 91]\n"
     ]
    }
   ],
   "source": [
    "list1 = [54, 44, 27, 79, 91, 41]\n",
    "value = list1[4]          #Copying the value before deletion            \n",
    "del list1[4]              #Deleting index 4th value\n",
    "list1.insert(1, value)    #Adding the copied value in the 2nd position\n",
    "list1.append(value)       #Adding the copied value in the end of the list\n",
    "\n",
    "print(\"List value: \", list1)"
   ]
  },
  {
   "cell_type": "markdown",
   "id": "c9a41030",
   "metadata": {},
   "source": [
    "### 8. Load the iris dataset and Find only those records whose sepal_length = 5.1 and sepal_width = 3.5\n"
   ]
  },
  {
   "cell_type": "code",
   "execution_count": 9,
   "id": "3c59572a",
   "metadata": {},
   "outputs": [
    {
     "name": "stdout",
     "output_type": "stream",
     "text": [
      "Records whose sepal_length = 5.1 and sepal_width = 3.5:\n",
      "\n",
      "     sepal_length  sepal_width  petal_length  petal_width species\n",
      "0            5.1          3.5           1.4          0.2  setosa\n",
      "17           5.1          3.5           1.4          0.3  setosa\n"
     ]
    }
   ],
   "source": [
    "\n",
    "df = sns.load_dataset(\"iris\")\n",
    "df = df[(df['sepal_length'] == 5.1) & (df['sepal_width'] == 3.5)]\n",
    "print(\"Records whose sepal_length = 5.1 and sepal_width = 3.5:\\n\\n\", df)      #Printing the result set"
   ]
  },
  {
   "cell_type": "markdown",
   "id": "d7d846a7",
   "metadata": {},
   "source": [
    "### 9. Check for Maximum petal_length and convert it in to 7.2 and min petal_length and convert it in to 1.2"
   ]
  },
  {
   "cell_type": "code",
   "execution_count": 10,
   "id": "c8645971",
   "metadata": {},
   "outputs": [
    {
     "name": "stdout",
     "output_type": "stream",
     "text": [
      "sepal_length          7.7\n",
      "sepal_width           2.6\n",
      "petal_length          6.9\n",
      "petal_width           2.3\n",
      "species         virginica\n",
      "Name: 118, dtype: object\n",
      "sepal_length       4.6\n",
      "sepal_width        3.6\n",
      "petal_length       1.0\n",
      "petal_width        0.2\n",
      "species         setosa\n",
      "Name: 22, dtype: object\n"
     ]
    }
   ],
   "source": [
    "df = sns.load_dataset(\"iris\")\n",
    "\n",
    "print(df.iloc[df['petal_length'].idxmax()])          #Minimum\n",
    "\n",
    "print(df.iloc[df['petal_length'].idxmin()])          #Maximum\n",
    "\n",
    "\n",
    "df.iloc[df['petal_length'].idxmax()] = 7.2           #Converting the maximum and minimum value.\n",
    "df.iloc[df['petal_length'].idxmin()] = 2.1\n"
   ]
  },
  {
   "cell_type": "markdown",
   "id": "b4dc18ab",
   "metadata": {},
   "source": [
    "### 10. Perform right join to combine values based on the 'ID' in the two dataframes."
   ]
  },
  {
   "cell_type": "code",
   "execution_count": 11,
   "id": "bd02a18a",
   "metadata": {},
   "outputs": [
    {
     "data": {
      "text/html": [
       "<div>\n",
       "<style scoped>\n",
       "    .dataframe tbody tr th:only-of-type {\n",
       "        vertical-align: middle;\n",
       "    }\n",
       "\n",
       "    .dataframe tbody tr th {\n",
       "        vertical-align: top;\n",
       "    }\n",
       "\n",
       "    .dataframe thead th {\n",
       "        text-align: right;\n",
       "    }\n",
       "</style>\n",
       "<table border=\"1\" class=\"dataframe\">\n",
       "  <thead>\n",
       "    <tr style=\"text-align: right;\">\n",
       "      <th></th>\n",
       "      <th>ID</th>\n",
       "      <th>Candidate_Name</th>\n",
       "      <th>Subject</th>\n",
       "      <th>City</th>\n",
       "      <th>Subject_Score</th>\n",
       "    </tr>\n",
       "  </thead>\n",
       "  <tbody>\n",
       "    <tr>\n",
       "      <th>0</th>\n",
       "      <td>101</td>\n",
       "      <td>Alex</td>\n",
       "      <td>History</td>\n",
       "      <td>Delhi</td>\n",
       "      <td>89</td>\n",
       "    </tr>\n",
       "    <tr>\n",
       "      <th>1</th>\n",
       "      <td>102</td>\n",
       "      <td>Amy</td>\n",
       "      <td>English</td>\n",
       "      <td>Mumbai</td>\n",
       "      <td>78</td>\n",
       "    </tr>\n",
       "    <tr>\n",
       "      <th>2</th>\n",
       "      <td>103</td>\n",
       "      <td>Allen</td>\n",
       "      <td>Geography</td>\n",
       "      <td>Delhi</td>\n",
       "      <td>77</td>\n",
       "    </tr>\n",
       "    <tr>\n",
       "      <th>3</th>\n",
       "      <td>104</td>\n",
       "      <td>Alice</td>\n",
       "      <td>German</td>\n",
       "      <td>Chennai</td>\n",
       "      <td>87</td>\n",
       "    </tr>\n",
       "    <tr>\n",
       "      <th>4</th>\n",
       "      <td>105</td>\n",
       "      <td>James</td>\n",
       "      <td>History</td>\n",
       "      <td>Hyderabad</td>\n",
       "      <td>87</td>\n",
       "    </tr>\n",
       "  </tbody>\n",
       "</table>\n",
       "</div>"
      ],
      "text/plain": [
       "    ID Candidate_Name    Subject       City  Subject_Score\n",
       "0  101           Alex    History      Delhi             89\n",
       "1  102            Amy    English     Mumbai             78\n",
       "2  103          Allen  Geography      Delhi             77\n",
       "3  104          Alice     German    Chennai             87\n",
       "4  105          James    History  Hyderabad             87"
      ]
     },
     "execution_count": 11,
     "metadata": {},
     "output_type": "execute_result"
    }
   ],
   "source": [
    "candidate_column = ['ID', 'Candidate_Name', 'Subject']\n",
    "candidate_data = [[101, 'Alex', 'History'],\n",
    "                  [102, 'Amy', 'English'],\n",
    "                  [103, 'Allen' , 'Geography'],\n",
    "                  [104, 'Alice' ,'German'],\n",
    "                  [105, 'James', 'History'],\n",
    "                  [106, 'Sara', 'German'],\n",
    "                  [107, 'Mia', 'English']]\n",
    "candidate = pd.DataFrame(candidate_data, columns = candidate_column)   #Creating Candidate DataFrame using the giving data\n",
    "\n",
    "\n",
    "score_column = ['ID' , 'City', 'Subject_Score']\n",
    "score_data = [[101, 'Delhi', 89],\n",
    "              [102, 'Mumbai', 78],\n",
    "              [103, 'Delhi', 77],\n",
    "              [104, 'Chennai', 87],\n",
    "              [105, 'Hyderabad', 87],\n",
    "              [108, 'Delhi', 84]]\n",
    "score = pd.DataFrame(score_data, columns = score_column)              #Creating Score DataFrame using the giving data\n",
    "\n",
    "pd.merge(candidate,score,how='inner',on='ID')                         #Two dataframes Joined using Inner Join"
   ]
  },
  {
   "cell_type": "code",
   "execution_count": null,
   "id": "4f96062e",
   "metadata": {},
   "outputs": [],
   "source": []
  },
  {
   "cell_type": "code",
   "execution_count": null,
   "id": "3c0d06ac",
   "metadata": {},
   "outputs": [],
   "source": []
  }
 ],
 "metadata": {
  "kernelspec": {
   "display_name": "Python 3 (ipykernel)",
   "language": "python",
   "name": "python3"
  },
  "language_info": {
   "codemirror_mode": {
    "name": "ipython",
    "version": 3
   },
   "file_extension": ".py",
   "mimetype": "text/x-python",
   "name": "python",
   "nbconvert_exporter": "python",
   "pygments_lexer": "ipython3",
   "version": "3.9.16"
  }
 },
 "nbformat": 4,
 "nbformat_minor": 5
}
